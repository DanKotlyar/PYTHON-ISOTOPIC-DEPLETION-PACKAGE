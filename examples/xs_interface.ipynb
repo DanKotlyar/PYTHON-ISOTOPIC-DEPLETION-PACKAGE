{
 "cells": [
  {
   "cell_type": "markdown",
   "metadata": {},
   "source": [
    "# pyIsoDep"
   ]
  },
  {
   "cell_type": "markdown",
   "metadata": {},
   "source": [
    "Copyright (c) Dan Kotlyar"
   ]
  },
  {
   "cell_type": "markdown",
   "metadata": {},
   "source": [
    "# A scenario with pre-generated XS and traces"
   ]
  },
  {
   "cell_type": "markdown",
   "metadata": {},
   "source": [
    "##  Description"
   ]
  },
  {
   "cell_type": "markdown",
   "metadata": {},
   "source": [
    "Example on how to execute a full depletion calculations."
   ]
  },
  {
   "cell_type": "markdown",
   "metadata": {},
   "source": [
    "## Load modules"
   ]
  },
  {
   "cell_type": "code",
   "execution_count": 1,
   "metadata": {},
   "outputs": [],
   "source": [
    "import numpy as np\n",
    "from pyIsoDep.functions.maindepletionsolver import MainDepletion\n",
    "from pyIsoDep.functions.generatedata import TransmutationData\n",
    "from pyIsoDep.functions.postprocessresults import Results\n",
    "from pyIsoDep.functions.read_csv import ReadCsv\n",
    "from pyIsoDep.functions.xsinterface import XsInterface"
   ]
  },
  {
   "cell_type": "markdown",
   "metadata": {},
   "source": [
    "### Data Generation Stage"
   ]
  },
  {
   "cell_type": "code",
   "execution_count": 2,
   "metadata": {},
   "outputs": [],
   "source": [
    "FY_WGT = 0.0  # determines the fission yield wieghting\n",
    "VOL = 332097.8  # cm^3\n",
    "\n",
    "xsTable, fields = ReadCsv(\"./bootstrap.csv\")\n",
    "xs0 = TransmutationData(libraryFlag=True, wgtFY=1.0)\n",
    "xs0.ReadData(ID=xsTable[:, 0], sig_f=xsTable[:, 3], sig_c=xsTable[:, 2],\n",
    "                   sig_alpha=xsTable[:, 4], flagBarns=True)\n",
    "\n",
    "xsTable, fields = ReadCsv(\"./tempramp.csv\")\n",
    "xs1 = TransmutationData(libraryFlag=True, wgtFY=1.0)\n",
    "xs1.ReadData(ID=xsTable[:, 0], sig_f=xsTable[:, 3], sig_c=xsTable[:, 2],\n",
    "                  sig_alpha=xsTable[:, 4], flagBarns=True)"
   ]
  },
  {
   "cell_type": "markdown",
   "metadata": {},
   "source": [
    "## XS Interface Stage"
   ]
  },
  {
   "cell_type": "markdown",
   "metadata": {},
   "source": [
    "### Single Dependency: temperature"
   ]
  },
  {
   "cell_type": "markdown",
   "metadata": {},
   "source": [
    "**Comment**: the cross sections used here were not really generated for multiple temperatures, but we will assume they are."
   ]
  },
  {
   "cell_type": "code",
   "execution_count": 3,
   "metadata": {},
   "outputs": [],
   "source": [
    "# Define the pre-generated sets for the different perturbations\n",
    "xs = XsInterface(numdepn=1, numpert=3, states=[[500], [600], [700]],\n",
    "                 xssets=[xs0, xs1, xs1], extrpFlag=True)\n",
    "# Set-up the traces\n",
    "timepoints, xsTimeSets = xs.setTimeTrace([0.0, 5.5, 30.0], [525, 550, 575])"
   ]
  },
  {
   "cell_type": "markdown",
   "metadata": {},
   "source": [
    "### Two Dependencies: temperature and pressure"
   ]
  },
  {
   "cell_type": "code",
   "execution_count": 4,
   "metadata": {},
   "outputs": [],
   "source": [
    "xs = XsInterface(numdepn=2, numpert=6, states=[[500, 2], [500, 3], [500, 4],\n",
    "                                                [600, 2], [600, 3], [600, 4]],\n",
    "                  xssets=[xs0, xs0, xs0, xs0, xs0, xs0], extrpFlag=True)\n",
    "\n",
    "timepoints, xsTimeSets = xs.setTimeTrace([0, 3.5], [500, 550], [3.0, 3.5])"
   ]
  },
  {
   "cell_type": "markdown",
   "metadata": {},
   "source": [
    "### Three dependencies: temperature, pressure, and xenon"
   ]
  },
  {
   "cell_type": "markdown",
   "metadata": {},
   "source": [
    "**Comment**: the cross sections used here were not really generated for multiple temperatures, but we will assume they are."
   ]
  },
  {
   "cell_type": "code",
   "execution_count": 5,
   "metadata": {},
   "outputs": [],
   "source": [
    "xs = XsInterface(numdepn=3, numpert=18,\n",
    "                 states=[[500, 2, 1E-05], [500, 2, 2E-05], [500, 2, 3E-05],\n",
    "                         [500, 3, 1E-05], [500, 3, 2E-05], [500, 3, 3E-05],\n",
    "                         [500, 5, 1E-05], [500, 5, 2E-05], [500, 5, 3E-05],\n",
    "                         [600, 2, 1E-05], [600, 2, 2E-05], [600, 2, 3E-05],\n",
    "                         [600, 3, 1E-05], [600, 3, 2E-05], [600, 3, 3E-05],\n",
    "                         [600, 5, 1E-05], [600, 5, 2E-05], [600, 5, 3E-05]],\n",
    "                 xssets=[xs0, xs0, xs0, xs0, xs0,\n",
    "                         xs0, xs0, xs0, xs0, xs0,\n",
    "                         xs0, xs0, xs0, xs0, xs0,\n",
    "                         xs0, xs0, xs0], extrpFlag=True)\n",
    "# Set-up the traces\n",
    "timepoints, xsTimeSets =\\\n",
    "    xs.setTimeTrace([0.0, 50.0, 100.0], [525, 550, 575], [2.5, 3.5, 3.75], [1.5E-05, 2.5E-05, 2.75E-05])"
   ]
  },
  {
   "cell_type": "markdown",
   "metadata": {},
   "source": [
    "### Depletion Stage"
   ]
  },
  {
   "cell_type": "markdown",
   "metadata": {},
   "source": [
    "#### Execute Depletion"
   ]
  },
  {
   "cell_type": "code",
   "execution_count": 6,
   "metadata": {},
   "outputs": [],
   "source": [
    "dep = MainDepletion(timepoints, *xsTimeSets)\n",
    "# define metadata (steps, flux, and so on)\n",
    "power = 1E+6*np.array([16.545, 118.49, 272.52, 330.22, 272.52, 214.82, 118.49])\n",
    "dt = np.array([5.5, 24.5, 7., 1800., 7., 180., 40.])\n",
    "dep.SetDepScenario(power=power, timeUnits=\"seconds\", timesteps=dt)\n",
    "# set initial composition\n",
    "dep.SetInitialComposition(xsTable[:, 0], xsTable[:, 1], vol=VOL)\n",
    "# solve the Bateman equations\n",
    "dep.SolveDepletion(method=\"cram\", xsinterp=False)"
   ]
  },
  {
   "cell_type": "markdown",
   "metadata": {},
   "source": [
    "#### Post depletion analysis"
   ]
  },
  {
   "cell_type": "code",
   "execution_count": 7,
   "metadata": {},
   "outputs": [],
   "source": [
    "dep.DecayHeat()\n",
    "dep.Radiotoxicity()\n",
    "dep.Activity()\n",
    "dep.Mass()"
   ]
  },
  {
   "cell_type": "markdown",
   "metadata": {},
   "source": [
    "### Post-process results"
   ]
  },
  {
   "cell_type": "code",
   "execution_count": 8,
   "metadata": {},
   "outputs": [],
   "source": [
    "res = Results(dep)"
   ]
  },
  {
   "cell_type": "code",
   "execution_count": 9,
   "metadata": {},
   "outputs": [
    {
     "data": {
      "text/plain": [
       "array([2.26062673e-03, 2.31077846e+05, 2.92441792e+06, 5.53613244e+06,\n",
       "       1.57902852e+07, 1.48928810e+07, 1.16482768e+07, 8.88484757e+06])"
      ]
     },
     "execution_count": 9,
     "metadata": {},
     "output_type": "execute_result"
    }
   ],
   "source": [
    "res.getvalues(\"totalQt\")"
   ]
  },
  {
   "cell_type": "code",
   "execution_count": 10,
   "metadata": {},
   "outputs": [
    {
     "data": {
      "image/png": "[encoded data removed]",
      "text/plain": [
       "<Figure size 432x288 with 1 Axes>"
      ]
     },
     "metadata": {
      "needs_background": "light"
     },
     "output_type": "display_data"
    }
   ],
   "source": [
    "res.plot(\"Nt\", timeUnits=\"seconds\", markers=['--^', '--o'], isotopes=[531350, 922360],\n",
    "         ylabel=\"Atomic density, #/b/cm\")"
   ]
  },
  {
   "cell_type": "code",
   "execution_count": 11,
   "metadata": {},
   "outputs": [
    {
     "data": {
      "image/png": "[encoded data removed]",
      "text/plain": [
       "<Figure size 432x288 with 1 Axes>"
      ]
     },
     "metadata": {
      "needs_background": "light"
     },
     "output_type": "display_data"
    }
   ],
   "source": [
    "res.plot(\"totalQt\", timeUnits=\"seconds\", norm=1E+6, ylabel=\"Decay heat, MW\")"
   ]
  },
  {
   "cell_type": "code",
   "execution_count": 12,
   "metadata": {},
   "outputs": [
    {
     "data": {
      "image/png": "[encoded data removed]",
      "text/plain": [
       "<Figure size 432x288 with 1 Axes>"
      ]
     },
     "metadata": {
      "needs_background": "light"
     },
     "output_type": "display_data"
    }
   ],
   "source": [
    "res.plot(\"flux\", timeUnits=\"seconds\", markers=\"--ro\", ylabel=\"Flux, n/cm2/s\")"
   ]
  },
  {
   "cell_type": "code",
   "execution_count": null,
   "metadata": {},
   "outputs": [],
   "source": []
  }
 ],
 "metadata": {
  "kernelspec": {
   "display_name": "Python 3",
   "language": "python",
   "name": "python3"
  },
  "language_info": {
   "codemirror_mode": {
    "name": "ipython",
    "version": 3
   },
   "file_extension": ".py",
   "mimetype": "text/x-python",
   "name": "python",
   "nbconvert_exporter": "python",
   "pygments_lexer": "ipython3",
   "version": "3.8.3"
  }
 },
 "nbformat": 4,
 "nbformat_minor": 2
}
