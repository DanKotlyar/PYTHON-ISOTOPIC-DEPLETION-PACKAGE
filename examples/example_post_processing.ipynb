{
 "cells": [
  {
   "cell_type": "markdown",
   "metadata": {},
   "source": [
    "# pyIsoDep"
   ]
  },
  {
   "cell_type": "markdown",
   "metadata": {},
   "source": [
    "Copyright (c) Dan Kotlyar <br>\n",
    "Author: Matt Krecicki"
   ]
  },
  {
   "cell_type": "markdown",
   "metadata": {},
   "source": [
    "# Post processing features example"
   ]
  },
  {
   "cell_type": "markdown",
   "metadata": {},
   "source": [
    "##  Description"
   ]
  },
  {
   "cell_type": "markdown",
   "metadata": {},
   "source": [
    "Example detailing post processing features available in pyIsoDep using simplied Xenon chain example."
   ]
  },
  {
   "cell_type": "markdown",
   "metadata": {},
   "source": [
    "## Load modules"
   ]
  },
  {
   "cell_type": "code",
   "execution_count": 1,
   "metadata": {},
   "outputs": [],
   "source": [
    "import numpy as np\n",
    "from pyIsoDep.functions.maindepletionsolver import MainDepletion\n",
    "from pyIsoDep.functions.generatedata import TransmutationData\n",
    "from pyIsoDep.functions.postprocessresults import Results"
   ]
  },
  {
   "cell_type": "markdown",
   "metadata": {},
   "source": [
    "### Define xenon- and samarium- data"
   ]
  },
  {
   "cell_type": "code",
   "execution_count": 2,
   "metadata": {},
   "outputs": [],
   "source": [
    "ID = [531350, 541350, 611490, 621490, 922350, 922380]\n",
    "sig_c = [6.8, 250537.62, 132.47, 6968.75, 5.0, 8.0]\n",
    "sig_f = [0.0, 0.0000000, 0.000, 0.00000, 97., 3.8]\n",
    "kappa = [0.0, 0.0000000, 0.000, 0.00000, 202.44, 202.44]\n",
    "N0 = [0.0, 0.0000000, 0.000, 0.00000, 6.43230E-04, 2.58062E-03]\n",
    "\n",
    "#    531350, 541350, 611490, 621490, 922350, 922380\n",
    "mtxFY = [\n",
    "    [0.0000, 0.0000, 0.0000, 0.0000, 0.06306, 0.06306],  # 531350\n",
    "    [0.0000, 0.0000, 0.0000, 0.0000, 0.00248, 0.00248],  # 541350\n",
    "    [0.0000, 0.0000, 0.0000, 0.0000, 0.01100, 0.01100],  # 611490\n",
    "    [0.0000, 0.0000, 0.0000, 0.0000, 0.00000, 0],  # 621490\n",
    "    [0.0000, 0.0000, 0.0000, 0.0000, 0.00000, 0],  # 922350\n",
    "    [0.0000, 0.0000, 0.0000, 0.0000, 0.00000, 0],  # 922380\n",
    "    ]"
   ]
  },
  {
   "cell_type": "markdown",
   "metadata": {},
   "source": [
    "### Data Generation Stage"
   ]
  },
  {
   "cell_type": "code",
   "execution_count": 3,
   "metadata": {},
   "outputs": [],
   "source": [
    "# Reset the data container\n",
    "data = TransmutationData(libraryFlag=True, wgtFY=1.0)\n",
    "# Feed cross sections into the container\n",
    "data.ReadData(ID, sig_f=sig_f, sig_c=sig_c, fymtx=mtxFY, EfissMeV=kappa)\n",
    "# Condense the data only to specific set of isotopes\n",
    "data.Condense(ID)"
   ]
  },
  {
   "cell_type": "markdown",
   "metadata": {},
   "source": [
    "### Depletion Stage"
   ]
  },
  {
   "cell_type": "markdown",
   "metadata": {},
   "source": [
    "#### Define metadata"
   ]
  },
  {
   "cell_type": "code",
   "execution_count": 4,
   "metadata": {},
   "outputs": [],
   "source": [
    "volume = 332097.750  # volume in cm**3\n",
    "\n",
    "timepoints = np.linspace(0, 48.0, 24)\n",
    "power = 330000000.*np.ones(len(timepoints)-1)  # Watts"
   ]
  },
  {
   "cell_type": "markdown",
   "metadata": {},
   "source": [
    "#### Execute Depletion"
   ]
  },
  {
   "cell_type": "code",
   "execution_count": 5,
   "metadata": {},
   "outputs": [],
   "source": [
    "dep = MainDepletion(0.0, data)\n",
    "dep.SetDepScenario(power=power, timeUnits=\"hours\", timepoints=timepoints)\n",
    "# set initial composition\n",
    "dep.SetInitialComposition(ID, N0, vol=volume)\n",
    "# solve the Bateman equations\n",
    "dep.SolveDepletion(method=\"cram\")"
   ]
  },
  {
   "cell_type": "markdown",
   "metadata": {},
   "source": [
    "#### Post depletion analysis"
   ]
  },
  {
   "cell_type": "code",
   "execution_count": 6,
   "metadata": {},
   "outputs": [],
   "source": [
    "dep.DecayHeat()\n",
    "dep.Radiotoxicity()\n",
    "dep.Activity()\n",
    "dep.Mass()\n",
    "dep.Reactivity()"
   ]
  },
  {
   "cell_type": "markdown",
   "metadata": {},
   "source": [
    "### Post-process results\n",
    "\n",
    "This function creates depletion results container"
   ]
  },
  {
   "cell_type": "code",
   "execution_count": 7,
   "metadata": {},
   "outputs": [],
   "source": [
    "res = Results(dep)"
   ]
  },
  {
   "cell_type": "markdown",
   "metadata": {},
   "source": [
    "#### Write to and read from Hdf5 file\n",
    "\n",
    "The export function writes the depletion analysis to an hdf5 file, which can be used to reconstruct the results object. An example is shown below. "
   ]
  },
  {
   "cell_type": "code",
   "execution_count": 8,
   "metadata": {},
   "outputs": [],
   "source": [
    "res.export(\"results.h5\", includeXS=True) #write to hdf5\n",
    "res2 = Results(\"results.h5\", includeXS=True)             #read from hdf5"
   ]
  },
  {
   "cell_type": "markdown",
   "metadata": {},
   "source": [
    "All of the methods of the results object are retained when the results are read from hdf5 file"
   ]
  },
  {
   "cell_type": "code",
   "execution_count": 9,
   "metadata": {},
   "outputs": [
    {
     "data": {
      "image/png": "[encoded data removed]",
      "text/plain": [
       "<Figure size 432x288 with 1 Axes>"
      ]
     },
     "metadata": {
      "needs_background": "light"
     },
     "output_type": "display_data"
    }
   ],
   "source": [
    "res2.plot(\"Nt\", timeUnits=\"hours\", isotopes=[531350,541350], ylabel=\"Concentration, atoms/b-cm\")"
   ]
  },
  {
   "cell_type": "markdown",
   "metadata": {},
   "source": [
    "#### Ranking function\n",
    "\n",
    "In addition to the plotting feature, a ranking function that will rank each isotopes integral contribution to the total of a given output value. This feature is useful for understanding a specific isotopes contribution for the simplification of a depletion matrix to increase computational efficiency. <br>\n",
    "\n",
    "The parameters that can be ranked are the following: <br>\n",
    "- \"Qt\" (decay heat)\n",
    "- \"reactivity\" \n",
    "- \"At\" (activity)\n",
    "- \"toxicityIngestion\"\n",
    "- \"toxicityInhalation\""
   ]
  },
  {
   "cell_type": "code",
   "execution_count": 10,
   "metadata": {},
   "outputs": [
    {
     "data": {
      "text/html": [
       "<div>\n",
       "<style scoped>\n",
       "    .dataframe tbody tr th:only-of-type {\n",
       "        vertical-align: middle;\n",
       "    }\n",
       "\n",
       "    .dataframe tbody tr th {\n",
       "        vertical-align: top;\n",
       "    }\n",
       "\n",
       "    .dataframe thead th {\n",
       "        text-align: right;\n",
       "    }\n",
       "</style>\n",
       "<table border=\"1\" class=\"dataframe\">\n",
       "  <thead>\n",
       "    <tr style=\"text-align: right;\">\n",
       "      <th></th>\n",
       "      <th>Id</th>\n",
       "      <th>ZAI</th>\n",
       "      <th>Qt</th>\n",
       "      <th>cumlative sum</th>\n",
       "    </tr>\n",
       "  </thead>\n",
       "  <tbody>\n",
       "    <tr>\n",
       "      <th>0</th>\n",
       "      <td>531350</td>\n",
       "      <td>I-135</td>\n",
       "      <td>3.789714e+06</td>\n",
       "      <td>0.951557</td>\n",
       "    </tr>\n",
       "    <tr>\n",
       "      <th>1</th>\n",
       "      <td>541350</td>\n",
       "      <td>Xe-135</td>\n",
       "      <td>1.514217e+05</td>\n",
       "      <td>0.989578</td>\n",
       "    </tr>\n",
       "    <tr>\n",
       "      <th>2</th>\n",
       "      <td>611490</td>\n",
       "      <td>Pm-149</td>\n",
       "      <td>4.150816e+04</td>\n",
       "      <td>1.000000</td>\n",
       "    </tr>\n",
       "    <tr>\n",
       "      <th>4</th>\n",
       "      <td>922350</td>\n",
       "      <td>U-235</td>\n",
       "      <td>1.194941e-01</td>\n",
       "      <td>1.000000</td>\n",
       "    </tr>\n",
       "    <tr>\n",
       "      <th>5</th>\n",
       "      <td>922380</td>\n",
       "      <td>U-238</td>\n",
       "      <td>6.929904e-02</td>\n",
       "      <td>1.000000</td>\n",
       "    </tr>\n",
       "  </tbody>\n",
       "</table>\n",
       "</div>"
      ],
      "text/plain": [
       "       Id     ZAI            Qt  cumlative sum\n",
       "0  531350   I-135  3.789714e+06       0.951557\n",
       "1  541350  Xe-135  1.514217e+05       0.989578\n",
       "2  611490  Pm-149  4.150816e+04       1.000000\n",
       "4  922350   U-235  1.194941e-01       1.000000\n",
       "5  922380   U-238  6.929904e-02       1.000000"
      ]
     },
     "execution_count": 10,
     "metadata": {},
     "output_type": "execute_result"
    }
   ],
   "source": [
    "rankQt = res2.rank(\"Qt\")\n",
    "rankQt.head()"
   ]
  },
  {
   "cell_type": "code",
   "execution_count": 11,
   "metadata": {},
   "outputs": [
    {
     "data": {
      "text/html": [
       "<div>\n",
       "<style scoped>\n",
       "    .dataframe tbody tr th:only-of-type {\n",
       "        vertical-align: middle;\n",
       "    }\n",
       "\n",
       "    .dataframe tbody tr th {\n",
       "        vertical-align: top;\n",
       "    }\n",
       "\n",
       "    .dataframe thead th {\n",
       "        text-align: right;\n",
       "    }\n",
       "</style>\n",
       "<table border=\"1\" class=\"dataframe\">\n",
       "  <thead>\n",
       "    <tr style=\"text-align: right;\">\n",
       "      <th></th>\n",
       "      <th>Id</th>\n",
       "      <th>ZAI</th>\n",
       "      <th>reactivity</th>\n",
       "      <th>cumlative sum</th>\n",
       "    </tr>\n",
       "  </thead>\n",
       "  <tbody>\n",
       "    <tr>\n",
       "      <th>4</th>\n",
       "      <td>922350</td>\n",
       "      <td>U-235</td>\n",
       "      <td>1.595336e+06</td>\n",
       "      <td>0.664723</td>\n",
       "    </tr>\n",
       "    <tr>\n",
       "      <th>5</th>\n",
       "      <td>922380</td>\n",
       "      <td>U-238</td>\n",
       "      <td>7.428881e+05</td>\n",
       "      <td>0.974260</td>\n",
       "    </tr>\n",
       "    <tr>\n",
       "      <th>1</th>\n",
       "      <td>541350</td>\n",
       "      <td>Xe-135</td>\n",
       "      <td>6.090010e+04</td>\n",
       "      <td>0.999635</td>\n",
       "    </tr>\n",
       "    <tr>\n",
       "      <th>3</th>\n",
       "      <td>621490</td>\n",
       "      <td>Sm-149</td>\n",
       "      <td>7.908624e+02</td>\n",
       "      <td>0.999965</td>\n",
       "    </tr>\n",
       "    <tr>\n",
       "      <th>2</th>\n",
       "      <td>611490</td>\n",
       "      <td>Pm-149</td>\n",
       "      <td>7.631954e+01</td>\n",
       "      <td>0.999996</td>\n",
       "    </tr>\n",
       "    <tr>\n",
       "      <th>0</th>\n",
       "      <td>531350</td>\n",
       "      <td>I-135</td>\n",
       "      <td>8.617606e+00</td>\n",
       "      <td>1.000000</td>\n",
       "    </tr>\n",
       "  </tbody>\n",
       "</table>\n",
       "</div>"
      ],
      "text/plain": [
       "       Id     ZAI    reactivity  cumlative sum\n",
       "4  922350   U-235  1.595336e+06       0.664723\n",
       "5  922380   U-238  7.428881e+05       0.974260\n",
       "1  541350  Xe-135  6.090010e+04       0.999635\n",
       "3  621490  Sm-149  7.908624e+02       0.999965\n",
       "2  611490  Pm-149  7.631954e+01       0.999996\n",
       "0  531350   I-135  8.617606e+00       1.000000"
      ]
     },
     "execution_count": 11,
     "metadata": {},
     "output_type": "execute_result"
    }
   ],
   "source": [
    "rankRho = res2.rank(\"reactivity\")\n",
    "rankRho.head(6)"
   ]
  },
  {
   "cell_type": "markdown",
   "metadata": {},
   "source": [
    "In addition to the integral quanity being ranked, the parameter at a specific time can also be ranked. The time point that is entered does not have to exactly the time points of the simulation, pyIsoDep will automatically find the closest time point. "
   ]
  },
  {
   "cell_type": "code",
   "execution_count": 12,
   "metadata": {},
   "outputs": [
    {
     "data": {
      "text/html": [
       "<div>\n",
       "<style scoped>\n",
       "    .dataframe tbody tr th:only-of-type {\n",
       "        vertical-align: middle;\n",
       "    }\n",
       "\n",
       "    .dataframe tbody tr th {\n",
       "        vertical-align: top;\n",
       "    }\n",
       "\n",
       "    .dataframe thead th {\n",
       "        text-align: right;\n",
       "    }\n",
       "</style>\n",
       "<table border=\"1\" class=\"dataframe\">\n",
       "  <thead>\n",
       "    <tr style=\"text-align: right;\">\n",
       "      <th></th>\n",
       "      <th>Id</th>\n",
       "      <th>ZAI</th>\n",
       "      <th>reactivity</th>\n",
       "      <th>cumlative sum</th>\n",
       "    </tr>\n",
       "  </thead>\n",
       "  <tbody>\n",
       "    <tr>\n",
       "      <th>4</th>\n",
       "      <td>922350</td>\n",
       "      <td>U-235</td>\n",
       "      <td>65897.623270</td>\n",
       "      <td>0.658976</td>\n",
       "    </tr>\n",
       "    <tr>\n",
       "      <th>5</th>\n",
       "      <td>922380</td>\n",
       "      <td>U-238</td>\n",
       "      <td>30753.058344</td>\n",
       "      <td>0.966507</td>\n",
       "    </tr>\n",
       "    <tr>\n",
       "      <th>1</th>\n",
       "      <td>541350</td>\n",
       "      <td>Xe-135</td>\n",
       "      <td>3279.534709</td>\n",
       "      <td>0.999302</td>\n",
       "    </tr>\n",
       "    <tr>\n",
       "      <th>3</th>\n",
       "      <td>621490</td>\n",
       "      <td>Sm-149</td>\n",
       "      <td>64.329736</td>\n",
       "      <td>0.999945</td>\n",
       "    </tr>\n",
       "    <tr>\n",
       "      <th>2</th>\n",
       "      <td>611490</td>\n",
       "      <td>Pm-149</td>\n",
       "      <td>5.007913</td>\n",
       "      <td>0.999996</td>\n",
       "    </tr>\n",
       "    <tr>\n",
       "      <th>0</th>\n",
       "      <td>531350</td>\n",
       "      <td>I-135</td>\n",
       "      <td>0.446028</td>\n",
       "      <td>1.000000</td>\n",
       "    </tr>\n",
       "  </tbody>\n",
       "</table>\n",
       "</div>"
      ],
      "text/plain": [
       "       Id     ZAI    reactivity  cumlative sum\n",
       "4  922350   U-235  65897.623270       0.658976\n",
       "5  922380   U-238  30753.058344       0.966507\n",
       "1  541350  Xe-135   3279.534709       0.999302\n",
       "3  621490  Sm-149     64.329736       0.999945\n",
       "2  611490  Pm-149      5.007913       0.999996\n",
       "0  531350   I-135      0.446028       1.000000"
      ]
     },
     "execution_count": 12,
     "metadata": {},
     "output_type": "execute_result"
    }
   ],
   "source": [
    "rankRho2 = res2.rank(\"reactivity\", timepoint=40.0, timeUnit=\"hours\")\n",
    "rankRho2.head(6)"
   ]
  },
  {
   "cell_type": "markdown",
   "metadata": {},
   "source": [
    "#### Incomplete post-irradation analysis recovery\n",
    "\n",
    "In some cases not all of the post processing functions may be evaluated. In this case the hdf5 recover function will print a warning as to which parameters were not found in the hdf5 file. "
   ]
  },
  {
   "cell_type": "code",
   "execution_count": 13,
   "metadata": {},
   "outputs": [],
   "source": [
    "dep = MainDepletion(0.0, data)\n",
    "dep.SetDepScenario(power=power, timeUnits=\"hours\", timepoints=timepoints)\n",
    "# set initial composition\n",
    "dep.SetInitialComposition(ID, N0, vol=volume)\n",
    "# solve the Bateman equations\n",
    "dep.SolveDepletion(method=\"cram\")"
   ]
  },
  {
   "cell_type": "code",
   "execution_count": 14,
   "metadata": {},
   "outputs": [
    {
     "name": "stdout",
     "output_type": "stream",
     "text": [
      "At not found in results\n",
      "AtCurie not found in results\n",
      "Qt not found in results\n",
      "massgr not found in results\n",
      "totalAtCurie not found in results\n",
      "totalMassgr not found in results\n",
      "totalQt not found in results\n",
      "totalToxIngestion not found in results\n",
      "totalToxInhalation not found in results\n",
      "toxicityIngestion not found in results\n",
      "toxicityInhalation not found in results\n",
      "reactivity not found in results\n",
      "XS libaries not found in results\n"
     ]
    }
   ],
   "source": [
    "res = Results(dep)\n",
    "res.export(\"resultsIncomplete.h5\", includeXS=False)\n",
    "res2 = Results(\"resultsIncomplete.h5\", includeXS=True)"
   ]
  },
  {
   "cell_type": "code",
   "execution_count": null,
   "metadata": {},
   "outputs": [],
   "source": []
  }
 ],
 "metadata": {
  "kernelspec": {
   "display_name": "Python 3",
   "language": "python",
   "name": "python3"
  },
  "language_info": {
   "codemirror_mode": {
    "name": "ipython",
    "version": 3
   },
   "file_extension": ".py",
   "mimetype": "text/x-python",
   "name": "python",
   "nbconvert_exporter": "python",
   "pygments_lexer": "ipython3",
   "version": "3.7.3"
  }
 },
 "nbformat": 4,
 "nbformat_minor": 2
}
